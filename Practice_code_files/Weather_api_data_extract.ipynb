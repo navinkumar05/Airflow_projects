{
 "cells": [
  {
   "cell_type": "markdown",
   "metadata": {},
   "source": [
    "Ref:\n",
    "\n",
    "https://github.com/YemiOla/openweather_etl/blob/master/main.py"
   ]
  },
  {
   "cell_type": "code",
   "execution_count": 23,
   "metadata": {},
   "outputs": [],
   "source": [
    "from datetime import datetime\n",
    "import pandas as pd\n",
    "import json\n",
    "import requests"
   ]
  },
  {
   "cell_type": "code",
   "execution_count": 8,
   "metadata": {},
   "outputs": [],
   "source": [
    "city_name='Houston'\n",
    "api_key='dd6ea92d95de16ee3f78157e7b086eb6'"
   ]
  },
  {
   "cell_type": "code",
   "execution_count": 9,
   "metadata": {},
   "outputs": [],
   "source": [
    "full_url=f\"https://api.openweathermap.org/data/2.5/weather?q={city_name}&appid={api_key}\""
   ]
  },
  {
   "cell_type": "code",
   "execution_count": 19,
   "metadata": {},
   "outputs": [
    {
     "name": "stdout",
     "output_type": "stream",
     "text": [
      "{'coord': {'lon': -95.3633, 'lat': 29.7633}, 'weather': [{'id': 803, 'main': 'Clouds', 'description': 'broken clouds', 'icon': '04n'}], 'base': 'stations', 'main': {'temp': 295.13, 'feels_like': 295.63, 'temp_min': 293.7, 'temp_max': 296.16, 'pressure': 1016, 'humidity': 86}, 'visibility': 10000, 'wind': {'speed': 2.57, 'deg': 330}, 'clouds': {'all': 75}, 'dt': 1716967601, 'sys': {'type': 2, 'id': 2001415, 'country': 'US', 'sunrise': 1716981731, 'sunset': 1717031762}, 'timezone': -18000, 'id': 4699066, 'name': 'Houston', 'cod': 200}\n"
     ]
    }
   ],
   "source": [
    "data=requests.get(full_url).json()\n",
    "print(data)"
   ]
  },
  {
   "cell_type": "code",
   "execution_count": 20,
   "metadata": {},
   "outputs": [],
   "source": [
    "def kelvin_to_fahrenheit(temp_in_kelvin):\n",
    "    temp_in_fahrenheit = (temp_in_kelvin - 273.15) * (9/5) + 32\n",
    "    return temp_in_fahrenheit"
   ]
  },
  {
   "cell_type": "code",
   "execution_count": 21,
   "metadata": {},
   "outputs": [],
   "source": [
    "city = data[\"name\"]\n",
    "weather_description = data[\"weather\"][0]['description']\n",
    "temp_farenheit = kelvin_to_fahrenheit(data[\"main\"][\"temp\"])\n",
    "feels_like_farenheit= kelvin_to_fahrenheit(data[\"main\"][\"feels_like\"])\n",
    "min_temp_farenheit = kelvin_to_fahrenheit(data[\"main\"][\"temp_min\"])\n",
    "max_temp_farenheit = kelvin_to_fahrenheit(data[\"main\"][\"temp_max\"])\n",
    "pressure = data[\"main\"][\"pressure\"]\n",
    "humidity = data[\"main\"][\"humidity\"]\n",
    "wind_speed = data[\"wind\"][\"speed\"]\n",
    "time_of_record = datetime.utcfromtimestamp(data['dt'] + data['timezone'])\n",
    "sunrise_time = datetime.utcfromtimestamp(data['sys']['sunrise'] + data['timezone'])\n",
    "sunset_time = datetime.utcfromtimestamp(data['sys']['sunset'] + data['timezone'])"
   ]
  },
  {
   "cell_type": "code",
   "execution_count": 22,
   "metadata": {},
   "outputs": [],
   "source": [
    "transformed_data = {\"City\": city,\n",
    "                    \"Description\": weather_description,\n",
    "                    \"Temperature (F)\": temp_farenheit,\n",
    "                    \"Feels Like (F)\": feels_like_farenheit,\n",
    "                    \"Minimun Temp (F)\":min_temp_farenheit,\n",
    "                    \"Maximum Temp (F)\": max_temp_farenheit,\n",
    "                    \"Pressure\": pressure,\n",
    "                    \"Humidty\": humidity,\n",
    "                    \"Wind Speed\": wind_speed,\n",
    "                    \"Time of Record\": time_of_record,\n",
    "                    \"Sunrise (Local Time)\":sunrise_time,\n",
    "                    \"Sunset (Local Time)\": sunset_time                        \n",
    "                    }"
   ]
  },
  {
   "cell_type": "code",
   "execution_count": 28,
   "metadata": {},
   "outputs": [],
   "source": [
    "df_data = pd.DataFrame([transformed_data])"
   ]
  },
  {
   "cell_type": "code",
   "execution_count": 29,
   "metadata": {},
   "outputs": [
    {
     "data": {
      "text/html": [
       "<div>\n",
       "<style scoped>\n",
       "    .dataframe tbody tr th:only-of-type {\n",
       "        vertical-align: middle;\n",
       "    }\n",
       "\n",
       "    .dataframe tbody tr th {\n",
       "        vertical-align: top;\n",
       "    }\n",
       "\n",
       "    .dataframe thead th {\n",
       "        text-align: right;\n",
       "    }\n",
       "</style>\n",
       "<table border=\"1\" class=\"dataframe\">\n",
       "  <thead>\n",
       "    <tr style=\"text-align: right;\">\n",
       "      <th></th>\n",
       "      <th>City</th>\n",
       "      <th>Description</th>\n",
       "      <th>Temperature (F)</th>\n",
       "      <th>Feels Like (F)</th>\n",
       "      <th>Minimun Temp (F)</th>\n",
       "      <th>Maximum Temp (F)</th>\n",
       "      <th>Pressure</th>\n",
       "      <th>Humidty</th>\n",
       "      <th>Wind Speed</th>\n",
       "      <th>Time of Record</th>\n",
       "      <th>Sunrise (Local Time)</th>\n",
       "      <th>Sunset (Local Time)</th>\n",
       "    </tr>\n",
       "  </thead>\n",
       "  <tbody>\n",
       "    <tr>\n",
       "      <th>0</th>\n",
       "      <td>Houston</td>\n",
       "      <td>broken clouds</td>\n",
       "      <td>71.564</td>\n",
       "      <td>72.464</td>\n",
       "      <td>68.99</td>\n",
       "      <td>73.418</td>\n",
       "      <td>1016</td>\n",
       "      <td>86</td>\n",
       "      <td>2.57</td>\n",
       "      <td>2024-05-29 02:26:41</td>\n",
       "      <td>2024-05-29 06:22:11</td>\n",
       "      <td>2024-05-29 20:16:02</td>\n",
       "    </tr>\n",
       "  </tbody>\n",
       "</table>\n",
       "</div>"
      ],
      "text/plain": [
       "      City    Description  Temperature (F)  Feels Like (F)  Minimun Temp (F)  \\\n",
       "0  Houston  broken clouds           71.564          72.464             68.99   \n",
       "\n",
       "   Maximum Temp (F)  Pressure  Humidty  Wind Speed      Time of Record  \\\n",
       "0            73.418      1016       86        2.57 2024-05-29 02:26:41   \n",
       "\n",
       "  Sunrise (Local Time) Sunset (Local Time)  \n",
       "0  2024-05-29 06:22:11 2024-05-29 20:16:02  "
      ]
     },
     "execution_count": 29,
     "metadata": {},
     "output_type": "execute_result"
    }
   ],
   "source": [
    "df_data"
   ]
  }
 ],
 "metadata": {
  "kernelspec": {
   "display_name": "Python 3",
   "language": "python",
   "name": "python3"
  },
  "language_info": {
   "codemirror_mode": {
    "name": "ipython",
    "version": 3
   },
   "file_extension": ".py",
   "mimetype": "text/x-python",
   "name": "python",
   "nbconvert_exporter": "python",
   "pygments_lexer": "ipython3",
   "version": "3.11.5"
  }
 },
 "nbformat": 4,
 "nbformat_minor": 2
}
