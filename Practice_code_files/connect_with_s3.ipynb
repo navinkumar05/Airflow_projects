{
 "cells": [
  {
   "cell_type": "code",
   "execution_count": 19,
   "metadata": {},
   "outputs": [],
   "source": [
    "import boto3\n",
    "import json\n",
    "import os\n",
    "from dotenv import load_dotenv\n",
    "import os"
   ]
  },
  {
   "cell_type": "code",
   "execution_count": 20,
   "metadata": {},
   "outputs": [
    {
     "data": {
      "text/plain": [
       "True"
      ]
     },
     "execution_count": 20,
     "metadata": {},
     "output_type": "execute_result"
    }
   ],
   "source": [
    "load_dotenv(dotenv_path=os.path.join(os.getcwd(), 'E://POC//Airflow_docker_setup//.env'))"
   ]
  },
  {
   "cell_type": "markdown",
   "metadata": {},
   "source": [
    "# Read"
   ]
  },
  {
   "cell_type": "code",
   "execution_count": 4,
   "metadata": {},
   "outputs": [
    {
     "name": "stdout",
     "output_type": "stream",
     "text": [
      "package com.spark_example;\n",
      "\n",
      "import org.apache.spark.SparkConf\n",
      "import org.apache.spark.SparkContext\n",
      "import org.apache.spark.rdd.RDD.rddToPairRDDFunctions\n",
      "object Wordcount {\n",
      "  def main(args: Array[String]) = {\n",
      "\n",
      "    //Start the Spark context\n",
      "    val conf = new SparkConf()\n",
      "      .setAppName(\"WordCount\")\n",
      "      .setJars(Seq(\"/home/big/workspace_3/spark_example/target/spark_example-0.0.1-SNAPSHOT-jar-with-dependencies.jar\"));\n",
      "    val sc = new SparkContext(conf)\n",
      "\n",
      "    //Read some example file to a test RDD\n",
      "    val test = sc.textFile(\"hdfs://localhost:50000/word\")\n",
      "\n",
      "    test.flatMap { line => //for each line\n",
      "      line.split(\" \") //split the line in word by word.\n",
      "    }\n",
      "      .map { word => //for each word\n",
      "        (word, 1) //Return a key/value tuple, with the word as key and 1 as value\n",
      "      }\n",
      "      .reduceByKey(_ + _) //Sum all of the value with same key\n",
      "      .saveAsTextFile(\"hdfs://localhost:50000/wordoutput2\") //Save to a text file\n",
      "\n",
      "    //Stop the Spark context\n",
      "    sc.stop\n",
      "  }\n",
      "}\n",
      "\n",
      "\n"
     ]
    }
   ],
   "source": [
    "s3=boto3.resource('s3')\n",
    "file_object=s3.Object('snowflake-db-prac','Wordcount.scala')\n",
    "contents=file_object.get()['Body'].read().decode('utf-8')\n",
    "# data=json.loads(contents)\n",
    "# print(data['info'])\n",
    "print(contents)"
   ]
  },
  {
   "cell_type": "markdown",
   "metadata": {},
   "source": [
    "# write"
   ]
  },
  {
   "cell_type": "code",
   "execution_count": 5,
   "metadata": {},
   "outputs": [],
   "source": [
    "from datetime import datetime\n",
    "import pandas as pd\n",
    "import requests"
   ]
  },
  {
   "cell_type": "code",
   "execution_count": 8,
   "metadata": {},
   "outputs": [
    {
     "ename": "NameError",
     "evalue": "name 'requests' is not defined",
     "output_type": "error",
     "traceback": [
      "\u001b[1;31m---------------------------------------------------------------------------\u001b[0m",
      "\u001b[1;31mNameError\u001b[0m                                 Traceback (most recent call last)",
      "Cell \u001b[1;32mIn[8], line 47\u001b[0m\n\u001b[0;32m     44\u001b[0m     df_data\u001b[38;5;241m.\u001b[39mto_csv(\u001b[38;5;124mf\u001b[39m\u001b[38;5;124m\"\u001b[39m\u001b[38;5;124mweather_\u001b[39m\u001b[38;5;132;01m{\u001b[39;00mcity\u001b[38;5;132;01m}\u001b[39;00m\u001b[38;5;124m_\u001b[39m\u001b[38;5;132;01m{\u001b[39;00mtimestamp\u001b[38;5;132;01m}\u001b[39;00m\u001b[38;5;124m.csv\u001b[39m\u001b[38;5;124m\"\u001b[39m, index\u001b[38;5;241m=\u001b[39m\u001b[38;5;28;01mFalse\u001b[39;00m)\n\u001b[0;32m     46\u001b[0m \u001b[38;5;28;01mif\u001b[39;00m \u001b[38;5;18m__name__\u001b[39m \u001b[38;5;241m==\u001b[39m \u001b[38;5;124m'\u001b[39m\u001b[38;5;124m__main__\u001b[39m\u001b[38;5;124m'\u001b[39m:\n\u001b[1;32m---> 47\u001b[0m     \u001b[43mweather_data_extract\u001b[49m\u001b[43m(\u001b[49m\u001b[43mfull_url\u001b[49m\u001b[43m)\u001b[49m\n",
      "Cell \u001b[1;32mIn[8], line 11\u001b[0m, in \u001b[0;36mweather_data_extract\u001b[1;34m(full_url)\u001b[0m\n\u001b[0;32m     10\u001b[0m \u001b[38;5;28;01mdef\u001b[39;00m \u001b[38;5;21mweather_data_extract\u001b[39m(full_url):\n\u001b[1;32m---> 11\u001b[0m     data\u001b[38;5;241m=\u001b[39m\u001b[43mrequests\u001b[49m\u001b[38;5;241m.\u001b[39mget(full_url)\u001b[38;5;241m.\u001b[39mjson()\n\u001b[0;32m     13\u001b[0m     city \u001b[38;5;241m=\u001b[39m data[\u001b[38;5;124m\"\u001b[39m\u001b[38;5;124mname\u001b[39m\u001b[38;5;124m\"\u001b[39m]\n\u001b[0;32m     14\u001b[0m     weather_description \u001b[38;5;241m=\u001b[39m data[\u001b[38;5;124m\"\u001b[39m\u001b[38;5;124mweather\u001b[39m\u001b[38;5;124m\"\u001b[39m][\u001b[38;5;241m0\u001b[39m][\u001b[38;5;124m'\u001b[39m\u001b[38;5;124mdescription\u001b[39m\u001b[38;5;124m'\u001b[39m]\n",
      "\u001b[1;31mNameError\u001b[0m: name 'requests' is not defined"
     ]
    }
   ],
   "source": [
    "city_name='Houston'\n",
    "# api_key=os.environ['api_key']\n",
    "\n",
    "full_url=f\"https://api.openweathermap.org/data/2.5/weather?q={city_name}&appid={os.getenv('api_key')}\"\n",
    "\n",
    "def kelvin_to_fahrenheit(temp_in_kelvin):\n",
    "    temp_in_fahrenheit = (temp_in_kelvin - 273.15) * (9/5) + 32\n",
    "    return temp_in_fahrenheit\n",
    "\n",
    "def weather_data_extract(full_url):\n",
    "    data=requests.get(full_url).json()\n",
    "\n",
    "    city = data[\"name\"]\n",
    "    weather_description = data[\"weather\"][0]['description']\n",
    "    temp_farenheit = kelvin_to_fahrenheit(data[\"main\"][\"temp\"])\n",
    "    feels_like_farenheit= kelvin_to_fahrenheit(data[\"main\"][\"feels_like\"])\n",
    "    min_temp_farenheit = kelvin_to_fahrenheit(data[\"main\"][\"temp_min\"])\n",
    "    max_temp_farenheit = kelvin_to_fahrenheit(data[\"main\"][\"temp_max\"])\n",
    "    pressure = data[\"main\"][\"pressure\"]\n",
    "    humidity = data[\"main\"][\"humidity\"]\n",
    "    wind_speed = data[\"wind\"][\"speed\"]\n",
    "    time_of_record = datetime.utcfromtimestamp(data['dt'] + data['timezone'])\n",
    "    sunrise_time = datetime.utcfromtimestamp(data['sys']['sunrise'] + data['timezone'])\n",
    "    sunset_time = datetime.utcfromtimestamp(data['sys']['sunset'] + data['timezone'])\n",
    "\n",
    "    transformed_data = {\"City\": city,\n",
    "                        \"Description\": weather_description,\n",
    "                        \"Temperature (F)\": temp_farenheit,\n",
    "                        \"Feels Like (F)\": feels_like_farenheit,\n",
    "                        \"Minimun Temp (F)\":min_temp_farenheit,\n",
    "                        \"Maximum Temp (F)\": max_temp_farenheit,\n",
    "                        \"Pressure\": pressure,\n",
    "                        \"Humidty\": humidity,\n",
    "                        \"Wind Speed\": wind_speed,\n",
    "                        \"Time of Record\": time_of_record,\n",
    "                        \"Sunrise (Local Time)\":sunrise_time,\n",
    "                        \"Sunset (Local Time)\": sunset_time                        \n",
    "                        }\n",
    "    \n",
    "    # Generate a timestamp for the output directory\n",
    "    timestamp = datetime.now().strftime(\"%Y%m%d%H%M%S\")\n",
    "\n",
    "    df_data = pd.DataFrame([transformed_data])\n",
    "    df_data.to_csv(f\"weather_{city}_{timestamp}.csv\", index=False)\n",
    "\n",
    "if __name__ == '__main__':\n",
    "    weather_data_extract(full_url)"
   ]
  },
  {
   "cell_type": "code",
   "execution_count": 14,
   "metadata": {},
   "outputs": [
    {
     "data": {
      "text/plain": [
       "True"
      ]
     },
     "execution_count": 14,
     "metadata": {},
     "output_type": "execute_result"
    }
   ],
   "source": [
    "from dotenv import load_dotenv\n",
    "import os\n",
    "# Determine the path to the .env file\n",
    "if '__file__' in globals():\n",
    "    # If running as a script\n",
    "    env_path = os.path.join(os.path.dirname(__file__), 'E://POC//Airflow_docker_setup//.env')\n",
    "else:\n",
    "    # If running in an interactive environment like Jupyter Notebook\n",
    "    env_path = os.path.join(os.getcwd(), 'E://POC//Airflow_docker_setup//.env')\n",
    "\n",
    "# Load environment variables from the .env file\n",
    "load_dotenv(dotenv_path=env_path)"
   ]
  },
  {
   "cell_type": "code",
   "execution_count": 21,
   "metadata": {},
   "outputs": [],
   "source": [
    "api_key = os.getenv('api_key')\n",
    "# print(api_key)"
   ]
  },
  {
   "cell_type": "code",
   "execution_count": 18,
   "metadata": {},
   "outputs": [
    {
     "data": {
      "text/plain": [
       "True"
      ]
     },
     "execution_count": 18,
     "metadata": {},
     "output_type": "execute_result"
    }
   ],
   "source": [
    "load_dotenv(dotenv_path=os.path.join(os.getcwd(), 'E://POC//Airflow_docker_setup//.env'))"
   ]
  }
 ],
 "metadata": {
  "kernelspec": {
   "display_name": "Python 3",
   "language": "python",
   "name": "python3"
  },
  "language_info": {
   "codemirror_mode": {
    "name": "ipython",
    "version": 3
   },
   "file_extension": ".py",
   "mimetype": "text/x-python",
   "name": "python",
   "nbconvert_exporter": "python",
   "pygments_lexer": "ipython3",
   "version": "3.12.3"
  }
 },
 "nbformat": 4,
 "nbformat_minor": 2
}
